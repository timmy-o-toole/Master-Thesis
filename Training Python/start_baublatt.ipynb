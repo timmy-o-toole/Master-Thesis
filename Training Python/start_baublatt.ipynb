{
 "cells": [
  {
   "cell_type": "code",
   "execution_count": 2,
   "metadata": {},
   "outputs": [],
   "source": [
    "import pandas as pd\n",
    "import numpy as np \n",
    "import os"
   ]
  },
  {
   "cell_type": "code",
   "execution_count": 3,
   "metadata": {},
   "outputs": [],
   "source": [
    "#Set directory\n",
    "os.chdir(\"C:/Users/Tim/Documents/GitHub/Master-Thesis\")\n",
    "#File bp\n",
    "path_raw = \"Baublatt Info/2006_01_KOF_9943D2K.csv\"\n",
    "\n",
    "# manipulate path for bp\n",
    "path = os.path.normpath(path_raw)\n",
    "path_bp = os.path.join(os.getcwd(), path)"
   ]
  },
  {
   "cell_type": "code",
   "execution_count": 4,
   "metadata": {},
   "outputs": [
    {
     "data": {
      "text/html": [
       "<div>\n",
       "<style scoped>\n",
       "    .dataframe tbody tr th:only-of-type {\n",
       "        vertical-align: middle;\n",
       "    }\n",
       "\n",
       "    .dataframe tbody tr th {\n",
       "        vertical-align: top;\n",
       "    }\n",
       "\n",
       "    .dataframe thead th {\n",
       "        text-align: right;\n",
       "    }\n",
       "</style>\n",
       "<table border=\"1\" class=\"dataframe\">\n",
       "  <thead>\n",
       "    <tr style=\"text-align: right;\">\n",
       "      <th></th>\n",
       "      <th>ObjektNr</th>\n",
       "      <th>BHNr</th>\n",
       "      <th>BHAnr</th>\n",
       "      <th>BHBriefAnr</th>\n",
       "      <th>BHName</th>\n",
       "      <th>BHVorname</th>\n",
       "      <th>BHBranche</th>\n",
       "      <th>BHStrasse</th>\n",
       "      <th>BHPostfach</th>\n",
       "      <th>BHPlz</th>\n",
       "      <th>...</th>\n",
       "      <th>TxtZeile11</th>\n",
       "      <th>TxtZeile12</th>\n",
       "      <th>TxtZeile13</th>\n",
       "      <th>TxtZeile14</th>\n",
       "      <th>TxtZeile15</th>\n",
       "      <th>TxtZeile16</th>\n",
       "      <th>TxtZeile17</th>\n",
       "      <th>TxtZeile18</th>\n",
       "      <th>TxtZeile19</th>\n",
       "      <th>TxtZeile20</th>\n",
       "    </tr>\n",
       "  </thead>\n",
       "  <tbody>\n",
       "    <tr>\n",
       "      <th>0</th>\n",
       "      <td>99836388</td>\n",
       "      <td>2406750</td>\n",
       "      <td>Firma</td>\n",
       "      <td>Sehr geehrte Damen und Herren</td>\n",
       "      <td>Möbel Pfister AG</td>\n",
       "      <td></td>\n",
       "      <td>c/o Arco Immob.-Management AG</td>\n",
       "      <td>Tramstrasse 7</td>\n",
       "      <td></td>\n",
       "      <td>5034</td>\n",
       "      <td>...</td>\n",
       "      <td></td>\n",
       "      <td></td>\n",
       "      <td></td>\n",
       "      <td></td>\n",
       "      <td></td>\n",
       "      <td></td>\n",
       "      <td></td>\n",
       "      <td></td>\n",
       "      <td></td>\n",
       "      <td></td>\n",
       "    </tr>\n",
       "    <tr>\n",
       "      <th>1</th>\n",
       "      <td>99836392</td>\n",
       "      <td>2406750</td>\n",
       "      <td>Firma</td>\n",
       "      <td>Sehr geehrte Damen und Herren</td>\n",
       "      <td>Möbel Pfister AG</td>\n",
       "      <td></td>\n",
       "      <td>c/o Arco Immob.-Management AG</td>\n",
       "      <td>Tramstrasse 7</td>\n",
       "      <td></td>\n",
       "      <td>5034</td>\n",
       "      <td>...</td>\n",
       "      <td></td>\n",
       "      <td></td>\n",
       "      <td></td>\n",
       "      <td></td>\n",
       "      <td></td>\n",
       "      <td></td>\n",
       "      <td></td>\n",
       "      <td></td>\n",
       "      <td></td>\n",
       "      <td></td>\n",
       "    </tr>\n",
       "    <tr>\n",
       "      <th>2</th>\n",
       "      <td>99837290</td>\n",
       "      <td>2279669</td>\n",
       "      <td>Firma</td>\n",
       "      <td>Sehr geehrte Damen und Herren</td>\n",
       "      <td>Ammann &amp; Co AG</td>\n",
       "      <td></td>\n",
       "      <td></td>\n",
       "      <td>Muhenstrasse 11</td>\n",
       "      <td></td>\n",
       "      <td>5036</td>\n",
       "      <td>...</td>\n",
       "      <td></td>\n",
       "      <td></td>\n",
       "      <td></td>\n",
       "      <td></td>\n",
       "      <td></td>\n",
       "      <td></td>\n",
       "      <td></td>\n",
       "      <td></td>\n",
       "      <td></td>\n",
       "      <td></td>\n",
       "    </tr>\n",
       "  </tbody>\n",
       "</table>\n",
       "<p>3 rows × 175 columns</p>\n",
       "</div>"
      ],
      "text/plain": [
       "   ObjektNr     BHNr  BHAnr                      BHBriefAnr            BHName  \\\n",
       "0  99836388  2406750  Firma  Sehr geehrte Damen und Herren   Möbel Pfister AG   \n",
       "1  99836392  2406750  Firma  Sehr geehrte Damen und Herren   Möbel Pfister AG   \n",
       "2  99837290  2279669  Firma  Sehr geehrte Damen und Herren     Ammann & Co AG   \n",
       "\n",
       "  BHVorname                      BHBranche        BHStrasse BHPostfach BHPlz  \\\n",
       "0            c/o Arco Immob.-Management AG    Tramstrasse 7             5034   \n",
       "1            c/o Arco Immob.-Management AG    Tramstrasse 7             5034   \n",
       "2                                           Muhenstrasse 11             5036   \n",
       "\n",
       "   ... TxtZeile11 TxtZeile12 TxtZeile13 TxtZeile14 TxtZeile15 TxtZeile16  \\\n",
       "0  ...                                                                     \n",
       "1  ...                                                                     \n",
       "2  ...                                                                     \n",
       "\n",
       "  TxtZeile17 TxtZeile18 TxtZeile19  TxtZeile20  \n",
       "0                                               \n",
       "1                                               \n",
       "2                                               \n",
       "\n",
       "[3 rows x 175 columns]"
      ]
     },
     "execution_count": 4,
     "metadata": {},
     "output_type": "execute_result"
    }
   ],
   "source": [
    "# read all the data\n",
    "data = pd.read_csv(path_bp,sep=';', na_filter=False, encoding='latin-1')\n",
    "data.head(3)"
   ]
  },
  {
   "cell_type": "code",
   "execution_count": 5,
   "metadata": {},
   "outputs": [
    {
     "data": {
      "text/plain": [
       "(7638, 175)"
      ]
     },
     "execution_count": 5,
     "metadata": {},
     "output_type": "execute_result"
    }
   ],
   "source": [
    "data.values.shape"
   ]
  },
  {
   "cell_type": "code",
   "execution_count": null,
   "metadata": {},
   "outputs": [],
   "source": []
  }
 ],
 "metadata": {
  "kernelspec": {
   "display_name": "Python 3",
   "language": "python",
   "name": "python3"
  },
  "language_info": {
   "codemirror_mode": {
    "name": "ipython",
    "version": 3
   },
   "file_extension": ".py",
   "mimetype": "text/x-python",
   "name": "python",
   "nbconvert_exporter": "python",
   "pygments_lexer": "ipython3",
   "version": "3.7.4"
  }
 },
 "nbformat": 4,
 "nbformat_minor": 4
}
